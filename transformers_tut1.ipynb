{
 "cells": [
  {
   "cell_type": "code",
   "execution_count": 1,
   "metadata": {},
   "outputs": [],
   "source": [
    "import torch\n",
    "from pytorch_transformers import *"
   ]
  },
  {
   "cell_type": "code",
   "execution_count": 2,
   "metadata": {},
   "outputs": [],
   "source": [
    "# list of all available models\n",
    "Models = [\n",
    "    (BertModel, BertTokenizer, 'bert-base-uncased'),\n",
    "    (OpenAIGPTModel, OpenAIGPTTokenizer, 'openai-gpt'),\n",
    "    (GPT2Model, GPT2Tokenizer, 'gpt2'),\n",
    "    (TransfoXLModel, TransfoXLTokenizer, 'transfo-xl-wt103'),\n",
    "    (XLNetModel, XLNetTokenizer, 'xlnet-base-cased'),\n",
    "    (XLMModel, XLMTokenizer, 'xlm-mlm-enfr-1024')\n",
    "]\n",
    "        "
   ]
  },
  {
   "cell_type": "code",
   "execution_count": 18,
   "metadata": {},
   "outputs": [
    {
     "name": "stdout",
     "output_type": "stream",
     "text": [
      "Input size :  torch.Size([1, 7])\n"
     ]
    }
   ],
   "source": [
    "doc = \"Allahabad is a beautiful city.\"\n",
    "\n",
    "# load first model\n",
    "model_class, tokenizer_class, pretrained_weights =  Models[0]\n",
    "\n",
    "# load weights for tokenizer\n",
    "tokenizer = tokenizer_class.from_pretrained(pretrained_weights)\n",
    "\n",
    "# load weigths for model\n",
    "model = model_class.from_pretrained(pretrained_weights)\n",
    "\n",
    "# parse inputs\n",
    "input_ids = torch.tensor(tokenizer.encode(doc))\n",
    "input_ids = input_ids.view(1, -1)\n",
    "print(\"Input size : \", input_ids.size())"
   ]
  },
  {
   "cell_type": "code",
   "execution_count": 19,
   "metadata": {},
   "outputs": [
    {
     "data": {
      "text/plain": [
       "tensor([[16455, 10542,  2003,  1037,  3376,  2103,  1012]])"
      ]
     },
     "execution_count": 19,
     "metadata": {},
     "output_type": "execute_result"
    }
   ],
   "source": [
    "input_ids"
   ]
  },
  {
   "cell_type": "code",
   "execution_count": 20,
   "metadata": {},
   "outputs": [],
   "source": [
    "# get hidden states\n",
    "last_hidden_states = model(input_ids)[0]\n",
    "    "
   ]
  },
  {
   "cell_type": "code",
   "execution_count": 9,
   "metadata": {},
   "outputs": [],
   "source": [
    "# get all attention weigths and hidden states\n",
    "model = model_class.from_pretrained(pretrained_weights, \n",
    "                                   output_hidden_states = True,\n",
    "                                   output_attentions = True)"
   ]
  },
  {
   "cell_type": "code",
   "execution_count": 24,
   "metadata": {},
   "outputs": [
    {
     "name": "stdout",
     "output_type": "stream",
     "text": [
      "torch.Size([7, 1])\n"
     ]
    }
   ],
   "source": [
    "input_ids = torch.tensor(tokenizer.encode(doc)).view(-1,1)\n",
    "print(input_ids.size())"
   ]
  },
  {
   "cell_type": "code",
   "execution_count": 25,
   "metadata": {},
   "outputs": [],
   "source": [
    "all_hidden_states, all_attentions = model(input_ids)[-2:]"
   ]
  },
  {
   "cell_type": "code",
   "execution_count": 26,
   "metadata": {},
   "outputs": [
    {
     "data": {
      "text/plain": [
       "torch.Size([7, 1, 768])"
      ]
     },
     "execution_count": 26,
     "metadata": {},
     "output_type": "execute_result"
    }
   ],
   "source": [
    "all_hidden_states.size()"
   ]
  },
  {
   "cell_type": "code",
   "execution_count": 27,
   "metadata": {},
   "outputs": [
    {
     "data": {
      "text/plain": [
       "torch.Size([7, 768])"
      ]
     },
     "execution_count": 27,
     "metadata": {},
     "output_type": "execute_result"
    }
   ],
   "source": [
    "all_attentions.size()"
   ]
  },
  {
   "cell_type": "code",
   "execution_count": 6,
   "metadata": {},
   "outputs": [],
   "source": [
    "# locally save the model\n",
    "model.save_pretrained(\"/Users/sachin/transformer_models/\")"
   ]
  },
  {
   "cell_type": "code",
   "execution_count": 7,
   "metadata": {},
   "outputs": [],
   "source": [
    "# load model from local drive\n",
    "model = model_class.from_pretrained(\"/Users/sachin/transformer_models/\")"
   ]
  },
  {
   "cell_type": "code",
   "execution_count": 21,
   "metadata": {},
   "outputs": [],
   "source": [
    "# save tokenizer weights"
   ]
  },
  {
   "cell_type": "code",
   "execution_count": 22,
   "metadata": {},
   "outputs": [],
   "source": [
    "tokenizer = tokenizer_class.from_pretrained(pretrained_weights)"
   ]
  },
  {
   "cell_type": "code",
   "execution_count": 23,
   "metadata": {},
   "outputs": [
    {
     "data": {
      "text/plain": [
       "('/Users/sachin/transformer_models/vocab.txt',\n",
       " '/Users/sachin/transformer_models/special_tokens_map.json',\n",
       " '/Users/sachin/transformer_models/added_tokens.json')"
      ]
     },
     "execution_count": 23,
     "metadata": {},
     "output_type": "execute_result"
    }
   ],
   "source": [
    "tokenizer.save_pretrained('/Users/sachin/transformer_models/') "
   ]
  },
  {
   "cell_type": "code",
   "execution_count": null,
   "metadata": {},
   "outputs": [],
   "source": []
  }
 ],
 "metadata": {
  "kernelspec": {
   "display_name": "Python 3",
   "language": "python",
   "name": "python3"
  },
  "language_info": {
   "codemirror_mode": {
    "name": "ipython",
    "version": 3
   },
   "file_extension": ".py",
   "mimetype": "text/x-python",
   "name": "python",
   "nbconvert_exporter": "python",
   "pygments_lexer": "ipython3",
   "version": "3.7.3"
  }
 },
 "nbformat": 4,
 "nbformat_minor": 2
}
